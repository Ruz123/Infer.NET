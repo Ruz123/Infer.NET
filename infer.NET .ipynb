{
 "cells": [
  {
   "cell_type": "code",
   "execution_count": null,
   "id": "c4d1af5d",
   "metadata": {},
   "outputs": [],
   "source": [
    "import sys\n",
    "sys.path.append(r'../dotNet/libs')\n",
    "\n",
    "import clr\n",
    "clr.AddReference(\"Microsoft.ML.Probabilistic\")\n",
    "clr.AddReference(\"Microsoft.ML.Probabilistic.Compiler\")\n",
    "clr.AddReference(\"Microsoft.ML.Probabilistic.Learners\")\n",
    "\n",
    "from System import Array, Double, Type\n",
    "from utils import plot_graph"
   ]
  },
  {
   "cell_type": "code",
   "execution_count": null,
   "id": "90cc48c4",
   "metadata": {},
   "outputs": [],
   "source": [
    "from Microsoft.ML.Probabilistic.Models import Variable, VariableArray, Range, InferenceEngine\n",
    "from Microsoft.ML.Probabilistic.Algorithms import VariationalMessagePassing\n",
    "from Microsoft.ML.Probabilistic.Distributions import Gaussian, Gamma"
   ]
  },
  {
   "cell_type": "code",
   "execution_count": null,
   "id": "6d2ea0a9",
   "metadata": {},
   "outputs": [],
   "source": [
    "# remove all previously generated graph files\n",
    "!rm -f *.svg *.gv"
   ]
  },
  {
   "cell_type": "markdown",
   "id": "e8bb0808",
   "metadata": {},
   "source": [
    "# Example 1: coin toss"
   ]
  },
  {
   "cell_type": "code",
   "execution_count": null,
   "id": "0d5e43de",
   "metadata": {},
   "outputs": [],
   "source": [
    "firstCoin = Variable.Bernoulli(Double(0.5)).Named('coin 1')\n",
    "secondCoin = Variable.Bernoulli(Double(0.5)).Named('coin 2')\n",
    "bothHeads = firstCoin.op_BitwiseAnd(firstCoin, secondCoin).Named('both heads')"
   ]
  },
  {
   "cell_type": "code",
   "execution_count": null,
   "id": "725cce75",
   "metadata": {},
   "outputs": [],
   "source": [
    "engine = InferenceEngine()\n",
    "engine.ModelName = 'coin_toss'\n",
    "engine.ShowFactorGraph = True\n",
    "\n",
    "marginal = engine.Infer(bothHeads)\n",
    "plot_graph(engine.ModelName)"
   ]
  },
  {
   "cell_type": "code",
   "execution_count": null,
   "id": "e0727ebe",
   "metadata": {},
   "outputs": [],
   "source": [
    "# This should give 'Bernoulli(0.25)' since probability\n",
    "# that a coin toss will give heads for both coins equals to 0.5 * 0.5 == 0.25\n",
    "print(f'Probability distribution both coins are heads: {marginal}');"
   ]
  },
  {
   "cell_type": "code",
   "execution_count": null,
   "id": "84ddeb68",
   "metadata": {},
   "outputs": [],
   "source": [
    "# Now we observe a coin toss with observed value for both heads == false\n",
    "bothHeads.ObservedValue = False;  \n",
    "engine.ModelName = 'coin_toss_observed'\n",
    "\n",
    "marginal = engine.Infer(firstCoin)\n",
    "plot_graph(engine.ModelName)"
   ]
  },
  {
   "cell_type": "code",
   "execution_count": null,
   "id": "3764f986",
   "metadata": {},
   "outputs": [],
   "source": [
    "# Probability that the first coin is head == 1/3, since\n",
    "# there are only 3 events possible without both coins giving heads\n",
    " print(f'Probability distribution over firstCoin: {marginal}');"
   ]
  }
 ],
 "metadata": {
  "kernelspec": {
   "display_name": "Python 3",
   "language": "python",
   "name": "python3"
  },
  "language_info": {
   "codemirror_mode": {
    "name": "ipython",
    "version": 3
   },
   "file_extension": ".py",
   "mimetype": "text/x-python",
   "name": "python",
   "nbconvert_exporter": "python",
   "pygments_lexer": "ipython3",
   "version": "3.8.10"
  }
 },
 "nbformat": 4,
 "nbformat_minor": 5
}
